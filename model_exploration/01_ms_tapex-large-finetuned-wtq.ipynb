{
 "cells": [
  {
   "metadata": {},
   "cell_type": "markdown",
   "source": "# Explore Model: microsoft/tapex-large-finetuned-wtq",
   "id": "7660446fe63918df"
  },
  {
   "metadata": {
    "ExecuteTime": {
     "end_time": "2024-10-03T12:28:10.899731Z",
     "start_time": "2024-10-03T12:28:10.889993Z"
    }
   },
   "cell_type": "code",
   "source": [
    "from idlelib.iomenu import encoding\n",
    "from transformers import TapexTokenizer, BartForConditionalGeneration\n",
    "import pandas as pd"
   ],
   "id": "6be110827ceee151",
   "outputs": [],
   "execution_count": 121
  },
  {
   "metadata": {},
   "cell_type": "markdown",
   "source": "## Fit the model ",
   "id": "d814ca86b593377"
  },
  {
   "metadata": {
    "ExecuteTime": {
     "end_time": "2024-10-03T09:20:07.657989Z",
     "start_time": "2024-10-03T09:10:29.040077Z"
    }
   },
   "cell_type": "code",
   "source": [
    "tokenizer = TapexTokenizer.from_pretrained(\"microsoft/tapex-large-finetuned-wtq\")\n",
    "model = BartForConditionalGeneration.from_pretrained(\"microsoft/tapex-large-finetuned-wtq\")"
   ],
   "id": "37142773c88f87c3",
   "outputs": [
    {
     "data": {
      "text/plain": [
       "tokenizer_config.json:   0%|          | 0.00/1.20k [00:00<?, ?B/s]"
      ],
      "application/vnd.jupyter.widget-view+json": {
       "version_major": 2,
       "version_minor": 0,
       "model_id": "965505ae96b649a6b86abec3da0b0224"
      }
     },
     "metadata": {},
     "output_type": "display_data"
    },
    {
     "data": {
      "text/plain": [
       "vocab.json:   0%|          | 0.00/899k [00:00<?, ?B/s]"
      ],
      "application/vnd.jupyter.widget-view+json": {
       "version_major": 2,
       "version_minor": 0,
       "model_id": "ec36d14964f5454cb9d85ebd9658dc76"
      }
     },
     "metadata": {},
     "output_type": "display_data"
    },
    {
     "data": {
      "text/plain": [
       "merges.txt:   0%|          | 0.00/506k [00:00<?, ?B/s]"
      ],
      "application/vnd.jupyter.widget-view+json": {
       "version_major": 2,
       "version_minor": 0,
       "model_id": "0cbad3013f074b96aba740f5788bb6f2"
      }
     },
     "metadata": {},
     "output_type": "display_data"
    },
    {
     "data": {
      "text/plain": [
       "special_tokens_map.json:   0%|          | 0.00/772 [00:00<?, ?B/s]"
      ],
      "application/vnd.jupyter.widget-view+json": {
       "version_major": 2,
       "version_minor": 0,
       "model_id": "2e920a87772543d5a2e9bc0b88c5a967"
      }
     },
     "metadata": {},
     "output_type": "display_data"
    },
    {
     "name": "stderr",
     "output_type": "stream",
     "text": [
      "/opt/anaconda3/lib/python3.12/site-packages/transformers/tokenization_utils_base.py:1601: FutureWarning: `clean_up_tokenization_spaces` was not set. It will be set to `True` by default. This behavior will be depracted in transformers v4.45, and will be then set to `False` by default. For more details check this issue: https://github.com/huggingface/transformers/issues/31884\n",
      "  warnings.warn(\n"
     ]
    },
    {
     "data": {
      "text/plain": [
       "config.json:   0%|          | 0.00/951 [00:00<?, ?B/s]"
      ],
      "application/vnd.jupyter.widget-view+json": {
       "version_major": 2,
       "version_minor": 0,
       "model_id": "2ec9cda35d7a414caf42c5968d6152c9"
      }
     },
     "metadata": {},
     "output_type": "display_data"
    },
    {
     "data": {
      "text/plain": [
       "model.safetensors:   0%|          | 0.00/1.63G [00:00<?, ?B/s]"
      ],
      "application/vnd.jupyter.widget-view+json": {
       "version_major": 2,
       "version_minor": 0,
       "model_id": "3ad77eadcf5b48c481e6b861e1ac27d0"
      }
     },
     "metadata": {},
     "output_type": "display_data"
    },
    {
     "data": {
      "text/plain": [
       "generation_config.json:   0%|          | 0.00/246 [00:00<?, ?B/s]"
      ],
      "application/vnd.jupyter.widget-view+json": {
       "version_major": 2,
       "version_minor": 0,
       "model_id": "b1cfe3b8515444efb6471e697243739b"
      }
     },
     "metadata": {},
     "output_type": "display_data"
    },
    {
     "name": "stdout",
     "output_type": "stream",
     "text": [
      "[' 2008']\n"
     ]
    }
   ],
   "execution_count": 40
  },
  {
   "metadata": {},
   "cell_type": "markdown",
   "source": "## Explore model with **001_Forbes** data ",
   "id": "1d6caf0a5bc4c46f"
  },
  {
   "metadata": {
    "ExecuteTime": {
     "end_time": "2024-10-03T09:26:43.333407Z",
     "start_time": "2024-10-03T09:26:43.243870Z"
    }
   },
   "cell_type": "code",
   "source": "df = pd.read_csv('../data/raw/datasets/001_Forbes.csv')",
   "id": "8829020517e8ba13",
   "outputs": [],
   "execution_count": 51
  },
  {
   "metadata": {
    "ExecuteTime": {
     "end_time": "2024-10-03T09:27:14.184624Z",
     "start_time": "2024-10-03T09:27:14.111458Z"
    }
   },
   "cell_type": "code",
   "source": [
    "data_1 = df[:5]\n",
    "data_1"
   ],
   "id": "1cf06de726ea848",
   "outputs": [
    {
     "data": {
      "text/plain": [
       "   rank                personName   age  finalWorth               category  \\\n",
       "0     1                 Elon Musk  50.0      219000             Automotive   \n",
       "1     2                Jeff Bezos  58.0      171000             Technology   \n",
       "2     3  Bernard Arnault & family  73.0      158000       Fashion & Retail   \n",
       "3     4                Bill Gates  66.0      129000             Technology   \n",
       "4     5            Warren Buffett  91.0      118000  Finance & Investments   \n",
       "\n",
       "               source        country       state     city  \\\n",
       "0       Tesla, SpaceX  United States       Texas   Austin   \n",
       "1              Amazon  United States  Washington  Seattle   \n",
       "2                LVMH         France         NaN    Paris   \n",
       "3           Microsoft  United States  Washington   Medina   \n",
       "4  Berkshire Hathaway  United States    Nebraska    Omaha   \n",
       "\n",
       "                       organization  selfMade gender  \\\n",
       "0                             Tesla      True      M   \n",
       "1                            Amazon      True      M   \n",
       "2  LVMH Moët Hennessy Louis Vuitton     False      M   \n",
       "3   Bill & Melinda Gates Foundation      True      M   \n",
       "4                Berkshire Hathaway      True      M   \n",
       "\n",
       "                   birthDate             title  philanthropyScore  \\\n",
       "0  1971-06-28 00:00:00+00:00               CEO                1.0   \n",
       "1  1964-01-12 00:00:00+00:00      Entrepreneur                1.0   \n",
       "2  1949-03-05 00:00:00+00:00  Chairman and CEO                NaN   \n",
       "3  1955-10-28 00:00:00+00:00         Cofounder                4.0   \n",
       "4  1930-08-30 00:00:00+00:00               CEO                5.0   \n",
       "\n",
       "                                                 bio  \\\n",
       "0  Elon Musk is working to revolutionize transpor...   \n",
       "1  Jeff Bezos founded e-commerce giant Amazon in ...   \n",
       "2  Bernard Arnault oversees the LVMH empire of so...   \n",
       "3  Bill Gates turned his fortune from software fi...   \n",
       "4  Known as the \"Oracle of Omaha,\" Warren Buffett...   \n",
       "\n",
       "                                               about  \n",
       "0  Musk was accepted to a graduate program at Sta...  \n",
       "1  Growing up, Jeff Bezos worked summers on his g...  \n",
       "2  Arnault apparently wooed his wife, Helene Merc...  \n",
       "3  When Gates was a kid, he spent so much time re...  \n",
       "4  Buffett still lives in the same Omaha, Nebrask...  "
      ],
      "text/html": [
       "<div>\n",
       "<style scoped>\n",
       "    .dataframe tbody tr th:only-of-type {\n",
       "        vertical-align: middle;\n",
       "    }\n",
       "\n",
       "    .dataframe tbody tr th {\n",
       "        vertical-align: top;\n",
       "    }\n",
       "\n",
       "    .dataframe thead th {\n",
       "        text-align: right;\n",
       "    }\n",
       "</style>\n",
       "<table border=\"1\" class=\"dataframe\">\n",
       "  <thead>\n",
       "    <tr style=\"text-align: right;\">\n",
       "      <th></th>\n",
       "      <th>rank</th>\n",
       "      <th>personName</th>\n",
       "      <th>age</th>\n",
       "      <th>finalWorth</th>\n",
       "      <th>category</th>\n",
       "      <th>source</th>\n",
       "      <th>country</th>\n",
       "      <th>state</th>\n",
       "      <th>city</th>\n",
       "      <th>organization</th>\n",
       "      <th>selfMade</th>\n",
       "      <th>gender</th>\n",
       "      <th>birthDate</th>\n",
       "      <th>title</th>\n",
       "      <th>philanthropyScore</th>\n",
       "      <th>bio</th>\n",
       "      <th>about</th>\n",
       "    </tr>\n",
       "  </thead>\n",
       "  <tbody>\n",
       "    <tr>\n",
       "      <th>0</th>\n",
       "      <td>1</td>\n",
       "      <td>Elon Musk</td>\n",
       "      <td>50.0</td>\n",
       "      <td>219000</td>\n",
       "      <td>Automotive</td>\n",
       "      <td>Tesla, SpaceX</td>\n",
       "      <td>United States</td>\n",
       "      <td>Texas</td>\n",
       "      <td>Austin</td>\n",
       "      <td>Tesla</td>\n",
       "      <td>True</td>\n",
       "      <td>M</td>\n",
       "      <td>1971-06-28 00:00:00+00:00</td>\n",
       "      <td>CEO</td>\n",
       "      <td>1.0</td>\n",
       "      <td>Elon Musk is working to revolutionize transpor...</td>\n",
       "      <td>Musk was accepted to a graduate program at Sta...</td>\n",
       "    </tr>\n",
       "    <tr>\n",
       "      <th>1</th>\n",
       "      <td>2</td>\n",
       "      <td>Jeff Bezos</td>\n",
       "      <td>58.0</td>\n",
       "      <td>171000</td>\n",
       "      <td>Technology</td>\n",
       "      <td>Amazon</td>\n",
       "      <td>United States</td>\n",
       "      <td>Washington</td>\n",
       "      <td>Seattle</td>\n",
       "      <td>Amazon</td>\n",
       "      <td>True</td>\n",
       "      <td>M</td>\n",
       "      <td>1964-01-12 00:00:00+00:00</td>\n",
       "      <td>Entrepreneur</td>\n",
       "      <td>1.0</td>\n",
       "      <td>Jeff Bezos founded e-commerce giant Amazon in ...</td>\n",
       "      <td>Growing up, Jeff Bezos worked summers on his g...</td>\n",
       "    </tr>\n",
       "    <tr>\n",
       "      <th>2</th>\n",
       "      <td>3</td>\n",
       "      <td>Bernard Arnault &amp; family</td>\n",
       "      <td>73.0</td>\n",
       "      <td>158000</td>\n",
       "      <td>Fashion &amp; Retail</td>\n",
       "      <td>LVMH</td>\n",
       "      <td>France</td>\n",
       "      <td>NaN</td>\n",
       "      <td>Paris</td>\n",
       "      <td>LVMH Moët Hennessy Louis Vuitton</td>\n",
       "      <td>False</td>\n",
       "      <td>M</td>\n",
       "      <td>1949-03-05 00:00:00+00:00</td>\n",
       "      <td>Chairman and CEO</td>\n",
       "      <td>NaN</td>\n",
       "      <td>Bernard Arnault oversees the LVMH empire of so...</td>\n",
       "      <td>Arnault apparently wooed his wife, Helene Merc...</td>\n",
       "    </tr>\n",
       "    <tr>\n",
       "      <th>3</th>\n",
       "      <td>4</td>\n",
       "      <td>Bill Gates</td>\n",
       "      <td>66.0</td>\n",
       "      <td>129000</td>\n",
       "      <td>Technology</td>\n",
       "      <td>Microsoft</td>\n",
       "      <td>United States</td>\n",
       "      <td>Washington</td>\n",
       "      <td>Medina</td>\n",
       "      <td>Bill &amp; Melinda Gates Foundation</td>\n",
       "      <td>True</td>\n",
       "      <td>M</td>\n",
       "      <td>1955-10-28 00:00:00+00:00</td>\n",
       "      <td>Cofounder</td>\n",
       "      <td>4.0</td>\n",
       "      <td>Bill Gates turned his fortune from software fi...</td>\n",
       "      <td>When Gates was a kid, he spent so much time re...</td>\n",
       "    </tr>\n",
       "    <tr>\n",
       "      <th>4</th>\n",
       "      <td>5</td>\n",
       "      <td>Warren Buffett</td>\n",
       "      <td>91.0</td>\n",
       "      <td>118000</td>\n",
       "      <td>Finance &amp; Investments</td>\n",
       "      <td>Berkshire Hathaway</td>\n",
       "      <td>United States</td>\n",
       "      <td>Nebraska</td>\n",
       "      <td>Omaha</td>\n",
       "      <td>Berkshire Hathaway</td>\n",
       "      <td>True</td>\n",
       "      <td>M</td>\n",
       "      <td>1930-08-30 00:00:00+00:00</td>\n",
       "      <td>CEO</td>\n",
       "      <td>5.0</td>\n",
       "      <td>Known as the \"Oracle of Omaha,\" Warren Buffett...</td>\n",
       "      <td>Buffett still lives in the same Omaha, Nebrask...</td>\n",
       "    </tr>\n",
       "  </tbody>\n",
       "</table>\n",
       "</div>"
      ]
     },
     "execution_count": 52,
     "metadata": {},
     "output_type": "execute_result"
    }
   ],
   "execution_count": 52
  },
  {
   "metadata": {
    "ExecuteTime": {
     "end_time": "2024-10-03T09:40:57.583755Z",
     "start_time": "2024-10-03T09:40:57.548925Z"
    }
   },
   "cell_type": "code",
   "source": [
    "table = data_1[[\"rank\", \"personName\", \"age\"]]\n",
    "table = table.astype(str)\n",
    "table"
   ],
   "id": "a00d4f8b40030ce1",
   "outputs": [
    {
     "data": {
      "text/plain": [
       "  rank                personName   age\n",
       "0    1                 Elon Musk  50.0\n",
       "1    2                Jeff Bezos  58.0\n",
       "2    3  Bernard Arnault & family  73.0\n",
       "3    4                Bill Gates  66.0\n",
       "4    5            Warren Buffett  91.0"
      ],
      "text/html": [
       "<div>\n",
       "<style scoped>\n",
       "    .dataframe tbody tr th:only-of-type {\n",
       "        vertical-align: middle;\n",
       "    }\n",
       "\n",
       "    .dataframe tbody tr th {\n",
       "        vertical-align: top;\n",
       "    }\n",
       "\n",
       "    .dataframe thead th {\n",
       "        text-align: right;\n",
       "    }\n",
       "</style>\n",
       "<table border=\"1\" class=\"dataframe\">\n",
       "  <thead>\n",
       "    <tr style=\"text-align: right;\">\n",
       "      <th></th>\n",
       "      <th>rank</th>\n",
       "      <th>personName</th>\n",
       "      <th>age</th>\n",
       "    </tr>\n",
       "  </thead>\n",
       "  <tbody>\n",
       "    <tr>\n",
       "      <th>0</th>\n",
       "      <td>1</td>\n",
       "      <td>Elon Musk</td>\n",
       "      <td>50.0</td>\n",
       "    </tr>\n",
       "    <tr>\n",
       "      <th>1</th>\n",
       "      <td>2</td>\n",
       "      <td>Jeff Bezos</td>\n",
       "      <td>58.0</td>\n",
       "    </tr>\n",
       "    <tr>\n",
       "      <th>2</th>\n",
       "      <td>3</td>\n",
       "      <td>Bernard Arnault &amp; family</td>\n",
       "      <td>73.0</td>\n",
       "    </tr>\n",
       "    <tr>\n",
       "      <th>3</th>\n",
       "      <td>4</td>\n",
       "      <td>Bill Gates</td>\n",
       "      <td>66.0</td>\n",
       "    </tr>\n",
       "    <tr>\n",
       "      <th>4</th>\n",
       "      <td>5</td>\n",
       "      <td>Warren Buffett</td>\n",
       "      <td>91.0</td>\n",
       "    </tr>\n",
       "  </tbody>\n",
       "</table>\n",
       "</div>"
      ]
     },
     "execution_count": 78,
     "metadata": {},
     "output_type": "execute_result"
    }
   ],
   "execution_count": 78
  },
  {
   "metadata": {
    "ExecuteTime": {
     "end_time": "2024-10-03T12:33:09.707462Z",
     "start_time": "2024-10-03T12:33:02.910582Z"
    }
   },
   "cell_type": "code",
   "source": [
    "question = \"What position is Warren Buffett in, and what is his age?\"\n",
    "encoding = tokenizer(table, query=question, return_tensors=\"pt\")\n",
    "outputs = model.generate(**encoding)\n",
    "print(tokenizer.batch_decode(outputs, skip_special_tokens=True))"
   ],
   "id": "e7db8a566ac4d60e",
   "outputs": [
    {
     "name": "stdout",
     "output_type": "stream",
     "text": [
      "[' 91.0']\n"
     ]
    }
   ],
   "execution_count": 122
  }
 ],
 "metadata": {
  "kernelspec": {
   "display_name": "Python 3",
   "language": "python",
   "name": "python3"
  },
  "language_info": {
   "codemirror_mode": {
    "name": "ipython",
    "version": 2
   },
   "file_extension": ".py",
   "mimetype": "text/x-python",
   "name": "python",
   "nbconvert_exporter": "python",
   "pygments_lexer": "ipython2",
   "version": "2.7.6"
  }
 },
 "nbformat": 4,
 "nbformat_minor": 5
}
