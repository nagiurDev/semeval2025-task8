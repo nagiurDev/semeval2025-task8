{
 "cells": [
  {
   "metadata": {},
   "cell_type": "markdown",
   "source": "# Download Datasets",
   "id": "29d097d99b4f6afe"
  },
  {
   "metadata": {
    "ExecuteTime": {
     "end_time": "2024-10-01T14:20:51.974956Z",
     "start_time": "2024-10-01T14:20:49.116532Z"
    }
   },
   "cell_type": "code",
   "source": [
    "from itertools import count\n",
    "\n",
    "import pandas as pd\n",
    "from datasets import load_dataset\n",
    "from pyarrow.dataset import dataset"
   ],
   "id": "7bac34b58317c679",
   "outputs": [],
   "execution_count": 1
  },
  {
   "metadata": {},
   "cell_type": "markdown",
   "source": "## Load all QA pairs",
   "id": "bff8f1dbdcca018d"
  },
  {
   "metadata": {
    "ExecuteTime": {
     "end_time": "2024-10-01T14:24:25.345837Z",
     "start_time": "2024-10-01T14:23:49.117006Z"
    }
   },
   "cell_type": "code",
   "source": "all_qa = load_dataset(\"cardiffnlp/databench\", name=\"qa\", split=\"train\")",
   "id": "c2b8ce7bea610f43",
   "outputs": [
    {
     "data": {
      "text/plain": [
       "Resolving data files:   0%|          | 0/65 [00:00<?, ?it/s]"
      ],
      "application/vnd.jupyter.widget-view+json": {
       "version_major": 2,
       "version_minor": 0,
       "model_id": "eab252de7aa4441aac788e0345af1b5f"
      }
     },
     "metadata": {},
     "output_type": "display_data"
    },
    {
     "data": {
      "text/plain": [
       "Resolving data files:   0%|          | 0/65 [00:00<?, ?it/s]"
      ],
      "application/vnd.jupyter.widget-view+json": {
       "version_major": 2,
       "version_minor": 0,
       "model_id": "abbd492a6eee4115a4a76d4eee9ed6e2"
      }
     },
     "metadata": {},
     "output_type": "display_data"
    }
   ],
   "execution_count": 2
  },
  {
   "metadata": {
    "ExecuteTime": {
     "end_time": "2024-10-01T14:26:33.089187Z",
     "start_time": "2024-10-01T14:26:33.067733Z"
    }
   },
   "cell_type": "code",
   "source": "all_qa.shape",
   "id": "a213d9b3c174aa05",
   "outputs": [
    {
     "data": {
      "text/plain": [
       "(1308, 7)"
      ]
     },
     "execution_count": 3,
     "metadata": {},
     "output_type": "execute_result"
    }
   ],
   "execution_count": 3
  },
  {
   "metadata": {
    "ExecuteTime": {
     "end_time": "2024-10-01T14:26:40.591433Z",
     "start_time": "2024-10-01T14:26:40.584597Z"
    }
   },
   "cell_type": "code",
   "source": "all_qa",
   "id": "902d344e20e6f9fa",
   "outputs": [
    {
     "data": {
      "text/plain": [
       "Dataset({\n",
       "    features: ['question', 'answer', 'type', 'columns_used', 'column_types', 'sample_answer', 'dataset'],\n",
       "    num_rows: 1308\n",
       "})"
      ]
     },
     "execution_count": 4,
     "metadata": {},
     "output_type": "execute_result"
    }
   ],
   "execution_count": 4
  },
  {
   "metadata": {},
   "cell_type": "markdown",
   "source": "## Save as **all_qa.csv** file ",
   "id": "9b50fdb42994a5b"
  },
  {
   "metadata": {
    "ExecuteTime": {
     "end_time": "2024-10-01T14:43:09.215581Z",
     "start_time": "2024-10-01T14:43:08.953037Z"
    }
   },
   "cell_type": "code",
   "source": [
    "# Convert to a pandas DataFrame\n",
    "all_qa_df = pd.DataFrame(all_qa)\n",
    "\n",
    "# Save as a CSV file\n",
    "all_qa_df.to_csv(\"../data/raw/all_qa.csv\", index=False)"
   ],
   "id": "8a6c6576d075a800",
   "outputs": [],
   "execution_count": 17
  },
  {
   "metadata": {
    "ExecuteTime": {
     "end_time": "2024-10-01T15:12:27.964143Z",
     "start_time": "2024-10-01T15:12:27.918465Z"
    }
   },
   "cell_type": "code",
   "source": "all_qa_df",
   "id": "7648b5037c12238a",
   "outputs": [
    {
     "data": {
      "text/plain": [
       "                                               question  \\\n",
       "0     Is the person with the highest net worth self-...   \n",
       "1       Does the youngest billionaire identify as male?   \n",
       "2     Is the city with the most billionaires in the ...   \n",
       "3     Is there a non-self-made billionaire in the to...   \n",
       "4     Does the oldest billionaire have a philanthrop...   \n",
       "...                                                 ...   \n",
       "1303     Which 3 countries made the least transactions?   \n",
       "1304  What are the invoice numbers of the top 5 tran...   \n",
       "1305  What are the stock codes of the bottom 4 trans...   \n",
       "1306  What are the six most commonly ordered quantit...   \n",
       "1307  What are the three least commonly ordered quan...   \n",
       "\n",
       "                                                 answer            type  \\\n",
       "0                                                  True         boolean   \n",
       "1                                                  True         boolean   \n",
       "2                                                  True         boolean   \n",
       "3                                                  True         boolean   \n",
       "4                                                 False         boolean   \n",
       "...                                                 ...             ...   \n",
       "1303      ['Saudi Arabia', 'Bahrain', 'Czech Republic']  list[category]   \n",
       "1304  ['581483', '541431', '578841', '542504', '5730...    list[number]   \n",
       "1305                [23843, 21366, 23005, 23005, 84347]    list[number]   \n",
       "1306                                [1, 2, 12, 6, 4, 3]    list[number]   \n",
       "1307                                   [-312, -79, 404]    list[number]   \n",
       "\n",
       "                  columns_used                     column_types  \\\n",
       "0       [finalWorth, selfMade]        [number[uint32], boolean]   \n",
       "1                [age, gender]        [number[UInt8], category]   \n",
       "2              [city, country]             [category, category]   \n",
       "3             [rank, selfMade]        [number[uint16], boolean]   \n",
       "4     [age, philanthropyScore]   [number[UInt8], number[UInt8]]   \n",
       "...                        ...                              ...   \n",
       "1303                 [Country]                       [category]   \n",
       "1304     [InvoiceNo, Quantity]  [number[UInt32], number[int32]]   \n",
       "1305     [InvoiceNo, Quantity]  [number[UInt32], number[int32]]   \n",
       "1306                [Quantity]                  [number[int32]]   \n",
       "1307                [Quantity]                  [number[int32]]   \n",
       "\n",
       "                                          sample_answer     dataset  \n",
       "0                                                 False  001_Forbes  \n",
       "1                                                  True  001_Forbes  \n",
       "2                                                  True  001_Forbes  \n",
       "3                                                 False  001_Forbes  \n",
       "4                                                 False  001_Forbes  \n",
       "...                                                 ...         ...  \n",
       "1303                    ['United Kingdom', 'Australia']     065_RFM  \n",
       "1304  ['548005', '555200', '573399', '577076', '5689...     065_RFM  \n",
       "1305      ['22465', '21109', '82484', '22799', '82600']     065_RFM  \n",
       "1306                               [1, 4, 2, 12, 24, 3]     065_RFM  \n",
       "1307                                        [6, 25, -5]     065_RFM  \n",
       "\n",
       "[1308 rows x 7 columns]"
      ],
      "text/html": [
       "<div>\n",
       "<style scoped>\n",
       "    .dataframe tbody tr th:only-of-type {\n",
       "        vertical-align: middle;\n",
       "    }\n",
       "\n",
       "    .dataframe tbody tr th {\n",
       "        vertical-align: top;\n",
       "    }\n",
       "\n",
       "    .dataframe thead th {\n",
       "        text-align: right;\n",
       "    }\n",
       "</style>\n",
       "<table border=\"1\" class=\"dataframe\">\n",
       "  <thead>\n",
       "    <tr style=\"text-align: right;\">\n",
       "      <th></th>\n",
       "      <th>question</th>\n",
       "      <th>answer</th>\n",
       "      <th>type</th>\n",
       "      <th>columns_used</th>\n",
       "      <th>column_types</th>\n",
       "      <th>sample_answer</th>\n",
       "      <th>dataset</th>\n",
       "    </tr>\n",
       "  </thead>\n",
       "  <tbody>\n",
       "    <tr>\n",
       "      <th>0</th>\n",
       "      <td>Is the person with the highest net worth self-...</td>\n",
       "      <td>True</td>\n",
       "      <td>boolean</td>\n",
       "      <td>[finalWorth, selfMade]</td>\n",
       "      <td>[number[uint32], boolean]</td>\n",
       "      <td>False</td>\n",
       "      <td>001_Forbes</td>\n",
       "    </tr>\n",
       "    <tr>\n",
       "      <th>1</th>\n",
       "      <td>Does the youngest billionaire identify as male?</td>\n",
       "      <td>True</td>\n",
       "      <td>boolean</td>\n",
       "      <td>[age, gender]</td>\n",
       "      <td>[number[UInt8], category]</td>\n",
       "      <td>True</td>\n",
       "      <td>001_Forbes</td>\n",
       "    </tr>\n",
       "    <tr>\n",
       "      <th>2</th>\n",
       "      <td>Is the city with the most billionaires in the ...</td>\n",
       "      <td>True</td>\n",
       "      <td>boolean</td>\n",
       "      <td>[city, country]</td>\n",
       "      <td>[category, category]</td>\n",
       "      <td>True</td>\n",
       "      <td>001_Forbes</td>\n",
       "    </tr>\n",
       "    <tr>\n",
       "      <th>3</th>\n",
       "      <td>Is there a non-self-made billionaire in the to...</td>\n",
       "      <td>True</td>\n",
       "      <td>boolean</td>\n",
       "      <td>[rank, selfMade]</td>\n",
       "      <td>[number[uint16], boolean]</td>\n",
       "      <td>False</td>\n",
       "      <td>001_Forbes</td>\n",
       "    </tr>\n",
       "    <tr>\n",
       "      <th>4</th>\n",
       "      <td>Does the oldest billionaire have a philanthrop...</td>\n",
       "      <td>False</td>\n",
       "      <td>boolean</td>\n",
       "      <td>[age, philanthropyScore]</td>\n",
       "      <td>[number[UInt8], number[UInt8]]</td>\n",
       "      <td>False</td>\n",
       "      <td>001_Forbes</td>\n",
       "    </tr>\n",
       "    <tr>\n",
       "      <th>...</th>\n",
       "      <td>...</td>\n",
       "      <td>...</td>\n",
       "      <td>...</td>\n",
       "      <td>...</td>\n",
       "      <td>...</td>\n",
       "      <td>...</td>\n",
       "      <td>...</td>\n",
       "    </tr>\n",
       "    <tr>\n",
       "      <th>1303</th>\n",
       "      <td>Which 3 countries made the least transactions?</td>\n",
       "      <td>['Saudi Arabia', 'Bahrain', 'Czech Republic']</td>\n",
       "      <td>list[category]</td>\n",
       "      <td>[Country]</td>\n",
       "      <td>[category]</td>\n",
       "      <td>['United Kingdom', 'Australia']</td>\n",
       "      <td>065_RFM</td>\n",
       "    </tr>\n",
       "    <tr>\n",
       "      <th>1304</th>\n",
       "      <td>What are the invoice numbers of the top 5 tran...</td>\n",
       "      <td>['581483', '541431', '578841', '542504', '5730...</td>\n",
       "      <td>list[number]</td>\n",
       "      <td>[InvoiceNo, Quantity]</td>\n",
       "      <td>[number[UInt32], number[int32]]</td>\n",
       "      <td>['548005', '555200', '573399', '577076', '5689...</td>\n",
       "      <td>065_RFM</td>\n",
       "    </tr>\n",
       "    <tr>\n",
       "      <th>1305</th>\n",
       "      <td>What are the stock codes of the bottom 4 trans...</td>\n",
       "      <td>[23843, 21366, 23005, 23005, 84347]</td>\n",
       "      <td>list[number]</td>\n",
       "      <td>[InvoiceNo, Quantity]</td>\n",
       "      <td>[number[UInt32], number[int32]]</td>\n",
       "      <td>['22465', '21109', '82484', '22799', '82600']</td>\n",
       "      <td>065_RFM</td>\n",
       "    </tr>\n",
       "    <tr>\n",
       "      <th>1306</th>\n",
       "      <td>What are the six most commonly ordered quantit...</td>\n",
       "      <td>[1, 2, 12, 6, 4, 3]</td>\n",
       "      <td>list[number]</td>\n",
       "      <td>[Quantity]</td>\n",
       "      <td>[number[int32]]</td>\n",
       "      <td>[1, 4, 2, 12, 24, 3]</td>\n",
       "      <td>065_RFM</td>\n",
       "    </tr>\n",
       "    <tr>\n",
       "      <th>1307</th>\n",
       "      <td>What are the three least commonly ordered quan...</td>\n",
       "      <td>[-312, -79, 404]</td>\n",
       "      <td>list[number]</td>\n",
       "      <td>[Quantity]</td>\n",
       "      <td>[number[int32]]</td>\n",
       "      <td>[6, 25, -5]</td>\n",
       "      <td>065_RFM</td>\n",
       "    </tr>\n",
       "  </tbody>\n",
       "</table>\n",
       "<p>1308 rows × 7 columns</p>\n",
       "</div>"
      ]
     },
     "execution_count": 28,
     "metadata": {},
     "output_type": "execute_result"
    }
   ],
   "execution_count": 28
  },
  {
   "metadata": {
    "ExecuteTime": {
     "end_time": "2024-10-01T14:41:32.578968Z",
     "start_time": "2024-10-01T14:41:32.562038Z"
    }
   },
   "cell_type": "code",
   "source": "all_qa_df.columns",
   "id": "ff9aa49983a82b77",
   "outputs": [
    {
     "data": {
      "text/plain": [
       "Index(['question', 'answer', 'type', 'columns_used', 'column_types',\n",
       "       'sample_answer', 'dataset'],\n",
       "      dtype='object')"
      ]
     },
     "execution_count": 15,
     "metadata": {},
     "output_type": "execute_result"
    }
   ],
   "execution_count": 15
  },
  {
   "metadata": {},
   "cell_type": "markdown",
   "source": "## Download dependent datasets",
   "id": "67005ee3418a6c8a"
  },
  {
   "metadata": {
    "ExecuteTime": {
     "end_time": "2024-10-01T15:58:30.989098Z",
     "start_time": "2024-10-01T15:58:30.951503Z"
    }
   },
   "cell_type": "code",
   "source": [
    "dependent_datasets = list(all_qa_df[\"dataset\"].unique())\n",
    "# print(dependent_datasets)"
   ],
   "id": "7fe7a3fd9dcee7ed",
   "outputs": [],
   "execution_count": 38
  },
  {
   "metadata": {},
   "cell_type": "markdown",
   "source": "### 1. Download first 5 datasets : '001_Forbes', '002_Titanic', '003_Love', '004_Taxi', '005_NYC'",
   "id": "b87c0616a0e94de9"
  },
  {
   "metadata": {
    "ExecuteTime": {
     "end_time": "2024-10-01T15:51:19.875909Z",
     "start_time": "2024-10-01T15:50:14.464891Z"
    }
   },
   "cell_type": "code",
   "source": [
    "for ds_id in dependent_datasets[0:5]:\n",
    "    df = pd.read_parquet(f\"hf://datasets/cardiffnlp/databench/data/{ds_id}/all.parquet\")\n",
    "    df.to_csv(f'../data/raw/datasets/{ds_id}.csv', index=False)"
   ],
   "id": "a3f5a3946ac86551",
   "outputs": [],
   "execution_count": 34
  }
 ],
 "metadata": {
  "kernelspec": {
   "display_name": "Python 3",
   "language": "python",
   "name": "python3"
  },
  "language_info": {
   "codemirror_mode": {
    "name": "ipython",
    "version": 2
   },
   "file_extension": ".py",
   "mimetype": "text/x-python",
   "name": "python",
   "nbconvert_exporter": "python",
   "pygments_lexer": "ipython2",
   "version": "2.7.6"
  }
 },
 "nbformat": 4,
 "nbformat_minor": 5
}
